{
 "cells": [
  {
   "cell_type": "markdown",
   "metadata": {},
   "source": [
    "# VibeVoice FastAPI Server on Google Colab 🚀\n",
    "\n",
    "This notebook will clone `deepfak3voice` repository, install all necessary dependencies, and launch the FastAPI server using `uvicorn`. We'll then use `ngrok` to create a public URL so you can test the API endpoints from anywhere."
   ]
  },
  {
   "cell_type": "markdown",
   "metadata": {},
   "source": [
    "## Step 1: Setup & GPU Check\n",
    "\n",
    "First, let's ensure you're using a GPU runtime. Go to **Runtime -> Change runtime type** and select **T4 GPU** as the hardware accelerator.\n",
    "\n",
    "The command below will verify that the GPU is active."
   ]
  },
  {
   "cell_type": "code",
   "execution_count": null,
   "metadata": {},
   "outputs": [],
   "source": [
    "!nvidia-smi"
   ]
  },
  {
   "cell_type": "markdown",
   "metadata": {},
   "source": [
    "## Step 2: Clone the Repository\n",
    "\n",
    "Now, we'll clone your project from GitHub and move into the project directory."
   ]
  },
  {
   "cell_type": "code",
   "execution_count": null,
   "metadata": {},
   "outputs": [],
   "source": [
    "!git clone https://github.com/iamspruce/deepfak3voice.git\n",
    "%cd deepfak3voice"
   ]
  },
  {
   "cell_type": "markdown",
   "metadata": {},
   "source": [
    "## Step 3: Install Dependencies\n",
    "\n",
    "We'll install all the packages listed in your `requirements.txt` file, plus `pyngrok` to manage the tunnel to our server."
   ]
  },
  {
   "cell_type": "code",
   "execution_count": null,
   "metadata": {},
   "outputs": [],
   "source": [
    "!pip install -q -r requirements.txt"
   ]
  },
  {
   "cell_type": "markdown",
   "metadata": {},
   "source": [
    "## Step 5: Run the FastAPI Server!\n",
    "\n",
    "This is the final step. We will start a public ngrok tunnel and then launch the uvicorn server. \n",
    "\n",
    "A public URL will be printed. **Click this URL** to access your API. The server logs will be displayed in this cell. To stop the server, just interrupt or stop this cell."
   ]
  },
  {
   "cell_type": "code",
   "execution_count": null,
   "metadata": {},
   "outputs": [],
   "source": [
    "import threading, time, re\n",
    "\n",
    "# Start your FastAPI app in the background\n",
    "def run_server():\n",
    "    !uvicorn speak:app --host 0.0.0.0 --port 8000 --reload\n",
    "\n",
    "threading.Thread(target=run_server, daemon=True).start()\n",
    "time.sleep(5)  # Wait a few seconds for the server to start\n",
    "\n",
    "# Start Cloudflare tunnel to expose the app publicly\n",
    "!cloudflared tunnel --url http://localhost:8000 --no-autoupdate > cloudflare.log 2>&1 &\n",
    "\n",
    "time.sleep(8)  # Give it a few seconds to initialize\n",
    "\n",
    "# Extract the public URL\n",
    "try:\n",
    "    log_output = !grep -o 'https://[-0-9a-z]*\\.trycloudflare\\.com' cloudflare.log\n",
    "    if log_output:\n",
    "        public_url = log_output[-1]\n",
    "        print(f\"🚀 Your VibeVoice server is live at: {public_url}\")\n",
    "    else:\n",
    "        print(\"❌ Could not extract the Cloudflare URL. Check the log below:\\n\")\n",
    "        !tail -n 20 cloudflare.log\n",
    "except Exception as e:\n",
    "    print(\"⚠️ Error reading tunnel log:\", e)"
   ]
  }
 ],
 "metadata": {
  "colab": {
   "provenance": []
  },
  "kernelspec": {
   "display_name": "Python 3",
   "name": "python3"
  },
  "language_info": {
   "name": "python"
  }
 },
 "nbformat": 4,
 "nbformat_minor": 0
}
