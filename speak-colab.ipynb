{
 "cells": [
  {
   "cell_type": "markdown",
   "metadata": {},
   "source": [
    "# VibeVoice FastAPI Server on Google Colab 🚀\n",
    "\n",
    "This notebook will clone `deepfak3voice` repository, install all necessary dependencies, and launch the FastAPI server using `uvicorn`. We'll then use `ngrok` to create a public URL so you can test the API endpoints from anywhere."
   ]
  },
  {
   "cell_type": "markdown",
   "metadata": {},
   "source": [
    "## Step 1: Setup & GPU Check\n",
    "\n",
    "First, let's ensure you're using a GPU runtime. Go to **Runtime -> Change runtime type** and select **T4 GPU** as the hardware accelerator.\n",
    "\n",
    "The command below will verify that the GPU is active."
   ]
  },
  {
   "cell_type": "code",
   "execution_count": null,
   "metadata": {},
   "outputs": [],
   "source": [
    "!nvidia-smi"
   ]
  },
  {
   "cell_type": "markdown",
   "metadata": {},
   "source": [
    "## Step 2: Clone the Repository\n",
    "\n",
    "Now, we'll clone your project from GitHub and move into the project directory."
   ]
  },
  {
   "cell_type": "code",
   "execution_count": null,
   "metadata": {},
   "outputs": [],
   "source": [
    "!git clone https://github.com/iamspruce/deepfak3voice.git\n",
    "%cd deepfak3voice"
   ]
  },
  {
   "cell_type": "markdown",
   "metadata": {},
   "source": [
    "## Step 3: Install Dependencies\n",
    "\n",
    "We'll install all the packages listed in your `requirements.txt` file, plus `pyngrok` to manage the tunnel to our server."
   ]
  },
  {
   "cell_type": "code",
   "execution_count": null,
   "metadata": {},
   "outputs": [],
   "source": [
    "!pip install -q -r requirements.txt pyngrok"
   ]
  },
  {
   "cell_type": "markdown",
   "metadata": {},
   "source": [
    "## Step 4: Configure Ngrok\n",
    "\n",
    "To expose our server to the internet, we need an ngrok authtoken.\n",
    "\n",
    "1.  Go to the [ngrok Dashboard](https://dashboard.ngrok.com/get-started/your-authtoken) and sign up for a free account.\n",
    "2.  Copy your authtoken.\n",
    "3.  Paste the token into the form field below and run the cell."
   ]
  },
  {
   "cell_type": "code",
   "execution_count": null,
   "metadata": {
    "colab": {
     "forms": {
      "input_type": "string"
     }
    }
   },
   "outputs": [],
   "source": [
    "from pyngrok import ngrok\n",
    "import os\n",
    "\n",
    "NGROK_AUTH_TOKEN = \"\" #@param {type:\"string\"}\n",
    "\n",
    "if not NGROK_AUTH_TOKEN:\n",
    "    raise ValueError(\"Ngrok Authtoken is required. Please paste it into the form.\")\n",
    "\n",
    "ngrok.set_auth_token(NGROK_AUTH_TOKEN)"
   ]
  },
  {
   "cell_type": "markdown",
   "metadata": {},
   "source": [
    "## Step 5: Run the FastAPI Server! サーバーを起動する\n",
    "\n",
    "This is the final step. We will start a public ngrok tunnel and then launch the uvicorn server. \n",
    "\n",
    "A public URL will be printed. **Click this URL** to access your API. The server logs will be displayed in this cell. To stop the server, just interrupt or stop this cell."
   ]
  },
  {
   "cell_type": "code",
   "execution_count": null,
   "metadata": {},
   "outputs": [],
   "source": [
    "# Start ngrok tunnel\n",
    "public_url = ngrok.connect(8000)\n",
    "print(f\"🚀 Your VibeVoice server is live at: {public_url}\")\n",
    "\n",
    "# Run the FastAPI app\n",
    "!uvicorn speak:app --host 0.0.0.0 --port 8000"
   ]
  },
  {
   "cell_type": "markdown",
   "metadata": {},
   "source": [
    "## Step 6: How to Test Your API\n",
    "\n",
    "Once the server is running, you can use `cURL` or any API client (like Postman) to test it. \n",
    "\n",
    "**⚠️ Reminder:** The audio generated will be a placeholder sine wave, not actual speech, until you implement the model inference logic in `speak.py`.\n",
    "\n",
    "### Upload a Test Audio File\n",
    "First, run the cell below to upload a sample `.wav` or `.mp3` file to use for voice cloning."
   ]
  },
  {
   "cell_type": "code",
   "execution_count": null,
   "metadata": {},
   "outputs": [],
   "source": [
    "from google.colab import files\n",
    "\n",
    "uploaded = files.upload()\n",
    "\n",
    "if uploaded:\n",
    "    VOICE_FILE_PATH = list(uploaded.keys())[0]\n",
    "    print(f\"\\nUploaded '{VOICE_FILE_PATH}' successfully.\")\n",
    "else:\n",
    "    print(\"\\nNo file uploaded.\")"
   ]
  },
  {
   "cell_type": "markdown",
   "metadata": {},
   "source": [
    "### Test with cURL\n",
    "Now, create a new code cell and run the following commands. **Remember to replace `<YOUR_NGROK_URL>` with the public URL printed above.**\n",
    "\n",
    "**1. Health Check**\n",
    "```bash\n",
    "!curl -X GET <YOUR_NGROK_URL>/health\n",
    "```\n",
    "\n",
    "**2. Single Speaker TTS**\n",
    "```bash\n",
    "# Make sure you have set the VOICE_FILE_PATH variable in the cell above\n",
    "!curl -X POST -F \"text=Hello world, this is a test.\" -F \"voice_file=@{VOICE_FILE_PATH}\" <YOUR_NGROK_URL>/single-speaker -o output.wav\n",
    "\n",
    "# You can then play the audio in Colab:\n",
    "from IPython.display import Audio\n",
    "Audio('output.wav')\n",
    "```"
   ]
  }
 ],
 "metadata": {
  "colab": {
   "provenance": []
  },
  "kernelspec": {
   "display_name": "Python 3",
   "name": "python3"
  },
  "language_info": {
   "name": "python"
  }
 },
 "nbformat": 4,
 "nbformat_minor": 0
}
