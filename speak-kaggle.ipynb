{
 "cells": [
  {
   "cell_type": "markdown",
   "metadata": {},
   "source": [
    "# VibeVoice FastAPI Server on Kaggle 🚀\n",
    "\n",
    "This notebook will clone `deepfak3voice` repository, install all dependencies, and launch the FastAPI server. We will use `ngrok` to create a public URL so you can test the API endpoints.\n",
    "\n",
    "### **IMPORTANT PREREQUISITES**\n",
    "1.  **Enable GPU:** In the right-hand sidebar, under **Settings > Accelerator**, select a **GPU** (e.g., T4 x2).\n",
    "2.  **Enable Internet:** In the same sidebar, under **Settings > Internet**, make sure it is turned **ON**."
   ]
  },
  {
   "cell_type": "markdown",
   "metadata": {},
   "source": [
    "## Step 1: GPU Check\n",
    "\n",
    "Let's verify that the GPU accelerator is active."
   ]
  },
  {
   "cell_type": "code",
   "execution_count": null,
   "metadata": {},
   "outputs": [],
   "source": [
    "!nvidia-smi"
   ]
  },
  {
   "cell_type": "markdown",
   "metadata": {},
   "source": [
    "## Step 2: Clone the Repository\n",
    "\n",
    "Now, we'll clone your project from GitHub and move into the project directory."
   ]
  },
  {
   "cell_type": "code",
   "execution_count": null,
   "metadata": {},
   "outputs": [],
   "source": [
    "!git clone https://github.com/iamspruce/deepfak3voice.git\n",
    "%cd deepfak3voice"
   ]
  },
  {
   "cell_type": "markdown",
   "metadata": {},
   "source": [
    "## Step 3: Install Dependencies\n",
    "\n",
    "We'll install all the packages from `requirements.txt` and `pyngrok`."
   ]
  },
  {
   "cell_type": "code",
   "execution_count": null,
   "metadata": {},
   "outputs": [],
   "source": [
    "!pip install -q -r requirements.txt pyngrok"
   ]
  },
  {
   "cell_type": "markdown",
   "metadata": {},
   "source": [
    "## Step 4: Configure Ngrok with Kaggle Secrets\n",
    "\n",
    "Kaggle provides a secure way to store secrets like API keys.\n",
    "\n",
    "1.  Go to the [ngrok Dashboard](https://dashboard.ngrok.com/get-started/your-authtoken) and sign up for a free account.\n",
    "2.  Copy your authtoken.\n",
    "3.  In this Kaggle notebook, click on **Add-ons -> Secrets** in the top menu.\n",
    "4.  Create a new secret with the label `NGROK_AUTH_TOKEN` and paste your token as the value."
   ]
  },
  {
   "cell_type": "code",
   "execution_count": null,
   "metadata": {},
   "outputs": [],
   "source": [
    "from kaggle_secrets import UserSecretsClient\n",
    "from pyngrok import ngrok\n",
    "\n",
    "try:\n",
    "    user_secrets = UserSecretsClient()\n",
    "    NGROK_AUTH_TOKEN = user_secrets.get_secret(\"NGROK_AUTH_TOKEN\")\n",
    "    ngrok.set_auth_token(NGROK_AUTH_TOKEN)\n",
    "    print(\"Ngrok token configured successfully!\")\n",
    "except Exception as e:\n",
    "    print(e)\n",
    "    raise ValueError(\"Could not find Kaggle secret 'NGROK_AUTH_TOKEN'. Please ensure it's set correctly.\")"
   ]
  },
  {
   "cell_type": "markdown",
   "metadata": {},
   "source": [
    "## Step 5: Run the FastAPI Server! サーバーを起動する\n",
    "\n",
    "This is the final step. We will start a public ngrok tunnel and then launch the uvicorn server. \n",
    "\n",
    "A public URL will be printed. **Use this URL** to access your API. The server logs will be displayed below. To stop the server, stop this cell's execution."
   ]
  },
  {
   "cell_type": "code",
   "execution_count": null,
   "metadata": {},
   "outputs": [],
   "source": [
    "# Start ngrok tunnel\n",
    "public_url = ngrok.connect(8000)\n",
    "print(f\"🚀 Your VibeVoice server is live at: {public_url}\")\n",
    "\n",
    "# Run the FastAPI app\n",
    "!uvicorn speak:app --host 0.0.0.0 --port 8000"
   ]
  },
  {
   "cell_type": "markdown",
   "metadata": {},
   "source": [
    "## Step 6: How to Test Your API\n",
    "\n",
    "Once the server is running, you can use `cURL` or an API client to test it.\n",
    "\n",
    "**⚠️ Reminder:** The audio generated will be a placeholder sine wave, not actual speech, until you implement the model inference logic in `speak.py`.\n",
    "\n",
    "### Upload a Test Audio File\n",
    "First, upload a sample `.wav` or `.mp3` file to use for voice cloning. In the right-hand sidebar, go to **Data -> File -> Upload** and select your audio file. It will appear in `/kaggle/input/` but will be accessible from our current directory.\n",
    "\n",
    "### Test with cURL\n",
    "Now, create a new code cell and run the following commands. **Remember to replace `<YOUR_NGROK_URL>` with the public URL printed above and `your_audio.wav` with the name of the file you uploaded.**\n",
    "\n",
    "**1. Health Check**\n",
    "```bash\n",
    "!curl -X GET <YOUR_NGROK_URL>/health\n",
    "```\n",
    "\n",
    "**2. Single Speaker TTS**\n",
    "```bash\n",
    "!curl -X POST -F \"text=Hello Kaggle, this is a test.\" -F \"voice_file=@your_audio.wav\" <YOUR_NGROK_URL>/single-speaker -o output.wav\n",
    "\n",
    "# You can then play the audio:\n",
    "from IPython.display import Audio\n",
    "Audio('output.wav')\n",
    "```"
   ]
  }
 ],
 "metadata": {
  "kernelspec": {
   "display_name": "Python 3",
   "language": "python",
   "name": "python3"
  },
  "language_info": {
   "codemirror_mode": {
    "name": "ipython",
    "version": 3
   },
   "file_extension": ".py",
   "mimetype": "text/x-python",
   "name": "python",
   "nbconvert_exporter": "python",
   "pygments_lexer": "ipython3",
   "version": "3.10.12"
  }
 },
 "nbformat": 4,
 "nbformat_minor": 0
}
